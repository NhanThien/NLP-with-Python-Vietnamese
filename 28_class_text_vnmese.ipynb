{
  "nbformat": 4,
  "nbformat_minor": 0,
  "metadata": {
    "kernelspec": {
      "display_name": "Python 3",
      "language": "python",
      "name": "python3"
    },
    "language_info": {
      "codemirror_mode": {
        "name": "ipython",
        "version": 3
      },
      "file_extension": ".py",
      "mimetype": "text/x-python",
      "name": "python",
      "nbconvert_exporter": "python",
      "pygments_lexer": "ipython3",
      "version": "3.6.9"
    },
    "colab": {
      "name": "thoi-trang-thoi-quen-so-thich.ipynb",
      "provenance": [],
      "collapsed_sections": []
    }
  },
  "cells": [
    {
      "cell_type": "code",
      "metadata": {
        "id": "-EB0K9zfToxV",
        "colab_type": "code",
        "colab": {}
      },
      "source": [
        "from tabulate import tabulate\n",
        "%matplotlib inline\n",
        "import matplotlib.pyplot as plt\n",
        "import seaborn as sns\n",
        "import pandas as pd\n",
        "import numpy as np\n",
        "from gensim.models.word2vec import Word2Vec\n",
        "from collections import Counter, defaultdict\n",
        "from sklearn.feature_extraction.text import CountVectorizer\n",
        "from sklearn.feature_extraction.text import TfidfVectorizer\n",
        "from sklearn.ensemble import ExtraTreesClassifier\n",
        "from sklearn.naive_bayes import BernoulliNB, MultinomialNB\n",
        "from sklearn.pipeline import Pipeline\n",
        "from sklearn.svm import SVC\n",
        "from sklearn.metrics import accuracy_score\n",
        "from sklearn.model_selection import *\n",
        "# from sklearn.cross_validation import cross_val_score\n",
        "from sklearn.model_selection import StratifiedShuffleSplit\n",
        "from sklearn.model_selection import cross_val_score"
      ],
      "execution_count": 0,
      "outputs": []
    },
    {
      "cell_type": "code",
      "metadata": {
        "id": "z9eDxHnZToxg",
        "colab_type": "code",
        "colab": {}
      },
      "source": [
        "from bs4 import BeautifulSoup\n",
        "import logging\n",
        "from sklearn.linear_model import LogisticRegression\n",
        "\n",
        "from sklearn.naive_bayes import MultinomialNB\n",
        "logging.basicConfig(format='%(asctime)s : %(levelname)s : %(message)s', level=logging.INFO)"
      ],
      "execution_count": 0,
      "outputs": []
    },
    {
      "cell_type": "code",
      "metadata": {
        "id": "KoT0tp0YUnE6",
        "colab_type": "code",
        "outputId": "a7882b25-0d22-4a7d-d149-6b0f50772856",
        "colab": {
          "base_uri": "https://localhost:8080/",
          "height": 124
        }
      },
      "source": [
        "from google.colab import drive\n",
        "drive.mount('/content/gdrive')"
      ],
      "execution_count": 0,
      "outputs": [
        {
          "output_type": "stream",
          "text": [
            "Go to this URL in a browser: https://accounts.google.com/o/oauth2/auth?client_id=947318989803-6bn6qk8qdgf4n4g3pfee6491hc0brc4i.apps.googleusercontent.com&redirect_uri=urn%3aietf%3awg%3aoauth%3a2.0%3aoob&response_type=code&scope=email%20https%3a%2f%2fwww.googleapis.com%2fauth%2fdocs.test%20https%3a%2f%2fwww.googleapis.com%2fauth%2fdrive%20https%3a%2f%2fwww.googleapis.com%2fauth%2fdrive.photos.readonly%20https%3a%2f%2fwww.googleapis.com%2fauth%2fpeopleapi.readonly\n",
            "\n",
            "Enter your authorization code:\n",
            "··········\n",
            "Mounted at /content/gdrive\n"
          ],
          "name": "stdout"
        }
      ]
    },
    {
      "cell_type": "code",
      "metadata": {
        "id": "8dr3wjJIVJIX",
        "colab_type": "code",
        "colab": {}
      },
      "source": [
        "path = \"/content/gdrive/My Drive/Colab Notebooks/\"\n",
        "fn_path = path + \"feature_text.csv\"\n",
        "df = pd.read_csv(fn_path)"
      ],
      "execution_count": 0,
      "outputs": []
    },
    {
      "cell_type": "code",
      "metadata": {
        "id": "WsvlhmvaToxj",
        "colab_type": "code",
        "colab": {}
      },
      "source": [
        "df = pd.read_csv(fn_path)"
      ],
      "execution_count": 0,
      "outputs": []
    },
    {
      "cell_type": "code",
      "metadata": {
        "id": "0hm8UYCZToxl",
        "colab_type": "code",
        "colab": {}
      },
      "source": [
        "df = df[['feature','Category']]"
      ],
      "execution_count": 0,
      "outputs": []
    },
    {
      "cell_type": "code",
      "metadata": {
        "id": "Nx85TzZfVcf_",
        "colab_type": "code",
        "outputId": "d741f86a-d71d-48f0-d674-cae4b62ed77d",
        "colab": {
          "base_uri": "https://localhost:8080/",
          "height": 204
        }
      },
      "source": [
        "df.head(5)"
      ],
      "execution_count": 0,
      "outputs": [
        {
          "output_type": "execute_result",
          "data": {
            "text/html": [
              "<div>\n",
              "<style scoped>\n",
              "    .dataframe tbody tr th:only-of-type {\n",
              "        vertical-align: middle;\n",
              "    }\n",
              "\n",
              "    .dataframe tbody tr th {\n",
              "        vertical-align: top;\n",
              "    }\n",
              "\n",
              "    .dataframe thead th {\n",
              "        text-align: right;\n",
              "    }\n",
              "</style>\n",
              "<table border=\"1\" class=\"dataframe\">\n",
              "  <thead>\n",
              "    <tr style=\"text-align: right;\">\n",
              "      <th></th>\n",
              "      <th>feature</th>\n",
              "      <th>Category</th>\n",
              "    </tr>\n",
              "  </thead>\n",
              "  <tbody>\n",
              "    <tr>\n",
              "      <th>0</th>\n",
              "      <td>Hồ_Ngọc_Hà từng ghi dấu_ấn trong làng nhạc Việ...</td>\n",
              "      <td>nhac-pop</td>\n",
              "    </tr>\n",
              "    <tr>\n",
              "      <th>1</th>\n",
              "      <td>Chiều 17 / 7 tại TP HCM , Hương Tràm tổ_chức b...</td>\n",
              "      <td>nhac-pop</td>\n",
              "    </tr>\n",
              "    <tr>\n",
              "      <th>2</th>\n",
              "      <td>Học_trò của Đàm_Vĩnh_Hưng vừa trình_làng mini ...</td>\n",
              "      <td>nhac-pop</td>\n",
              "    </tr>\n",
              "    <tr>\n",
              "      <th>3</th>\n",
              "      <td>Lệ_Quyên cho biết cô sẽ thay_đổi cách hát cũng...</td>\n",
              "      <td>nhac-pop</td>\n",
              "    </tr>\n",
              "    <tr>\n",
              "      <th>4</th>\n",
              "      <td>Theo Billboard , luật_pháp Tây_Ban Nha quy_địn...</td>\n",
              "      <td>nhac-pop</td>\n",
              "    </tr>\n",
              "  </tbody>\n",
              "</table>\n",
              "</div>"
            ],
            "text/plain": [
              "                                             feature  Category\n",
              "0  Hồ_Ngọc_Hà từng ghi dấu_ấn trong làng nhạc Việ...  nhac-pop\n",
              "1  Chiều 17 / 7 tại TP HCM , Hương Tràm tổ_chức b...  nhac-pop\n",
              "2  Học_trò của Đàm_Vĩnh_Hưng vừa trình_làng mini ...  nhac-pop\n",
              "3  Lệ_Quyên cho biết cô sẽ thay_đổi cách hát cũng...  nhac-pop\n",
              "4  Theo Billboard , luật_pháp Tây_Ban Nha quy_địn...  nhac-pop"
            ]
          },
          "metadata": {
            "tags": []
          },
          "execution_count": 10
        }
      ]
    },
    {
      "cell_type": "code",
      "metadata": {
        "id": "BV3YJvynlXo6",
        "colab_type": "code",
        "outputId": "b0c8379d-8efb-46b6-f3af-b264479eef5a",
        "colab": {
          "base_uri": "https://localhost:8080/",
          "height": 553
        }
      },
      "source": [
        "cates = df.groupby('Category')\n",
        "print(\"total categories:\", cates.ngroups)\n",
        "print(cates.size())"
      ],
      "execution_count": 0,
      "outputs": [
        {
          "output_type": "stream",
          "text": [
            "total categories: 28\n",
            "Category\n",
            "am-thuc               1341\n",
            "bat-dong-san          2328\n",
            "cong-nghe             3311\n",
            "du-lich               2001\n",
            "game                   165\n",
            "gia-dinh              2042\n",
            "giao-duc              2001\n",
            "khoa-hoc              2001\n",
            "kinh-doanh            1999\n",
            "mua-sam               1122\n",
            "my-thuat               193\n",
            "nghe-nghiep           1619\n",
            "nha-vuon              2994\n",
            "nhac-pop              3628\n",
            "phim                  4003\n",
            "sach                  2237\n",
            "song-khoe             2001\n",
            "su-kien               1004\n",
            "suc-khoe-y-khoa       1429\n",
            "tai-chinh-ca-nhan      817\n",
            "tam-linh               868\n",
            "the-thao              2001\n",
            "thoi-quen-so-thich     316\n",
            "thoi-su               2001\n",
            "thoi-trang            3089\n",
            "thu-cung               393\n",
            "truyen-hinh           3061\n",
            "xe                    1698\n",
            "dtype: int64\n"
          ],
          "name": "stdout"
        }
      ]
    },
    {
      "cell_type": "code",
      "metadata": {
        "id": "H1MLcpEsgsVT",
        "colab_type": "code",
        "colab": {}
      },
      "source": [
        "def clean_str(s):\n",
        "    \"\"\"\n",
        "    Tokenization/string cleaning for dataset\n",
        "    Every dataset is lower cased except\n",
        "    \"\"\"\n",
        "    s = s.replace(\"_\",\" \")\n",
        "\n",
        "    return s"
      ],
      "execution_count": 0,
      "outputs": []
    },
    {
      "cell_type": "code",
      "metadata": {
        "id": "aDa59JPXhjEM",
        "colab_type": "code",
        "colab": {}
      },
      "source": [
        "for idx in range(df.feature.shape[0]):\n",
        "    df.feature[idx] = clean_str(df.feature[idx])"
      ],
      "execution_count": 0,
      "outputs": []
    },
    {
      "cell_type": "code",
      "metadata": {
        "id": "78cAYNJGhruF",
        "colab_type": "code",
        "outputId": "ab399c9f-2735-4b32-f0c1-d2704d2b4132",
        "colab": {
          "base_uri": "https://localhost:8080/",
          "height": 198
        }
      },
      "source": [
        "df.head(5)"
      ],
      "execution_count": 0,
      "outputs": [
        {
          "output_type": "execute_result",
          "data": {
            "text/html": [
              "<div>\n",
              "<style scoped>\n",
              "    .dataframe tbody tr th:only-of-type {\n",
              "        vertical-align: middle;\n",
              "    }\n",
              "\n",
              "    .dataframe tbody tr th {\n",
              "        vertical-align: top;\n",
              "    }\n",
              "\n",
              "    .dataframe thead th {\n",
              "        text-align: right;\n",
              "    }\n",
              "</style>\n",
              "<table border=\"1\" class=\"dataframe\">\n",
              "  <thead>\n",
              "    <tr style=\"text-align: right;\">\n",
              "      <th></th>\n",
              "      <th>feature</th>\n",
              "      <th>Category</th>\n",
              "    </tr>\n",
              "  </thead>\n",
              "  <tbody>\n",
              "    <tr>\n",
              "      <th>0</th>\n",
              "      <td>Hồ Ngọc Hà từng ghi dấu ấn trong làng nhạc Việ...</td>\n",
              "      <td>nhac-pop</td>\n",
              "    </tr>\n",
              "    <tr>\n",
              "      <th>1</th>\n",
              "      <td>Chiều 17 / 7 tại TP HCM , Hương Tràm tổ chức b...</td>\n",
              "      <td>nhac-pop</td>\n",
              "    </tr>\n",
              "    <tr>\n",
              "      <th>2</th>\n",
              "      <td>Học trò của Đàm Vĩnh Hưng vừa trình làng mini ...</td>\n",
              "      <td>nhac-pop</td>\n",
              "    </tr>\n",
              "    <tr>\n",
              "      <th>3</th>\n",
              "      <td>Lệ Quyên cho biết cô sẽ thay đổi cách hát cũng...</td>\n",
              "      <td>nhac-pop</td>\n",
              "    </tr>\n",
              "    <tr>\n",
              "      <th>4</th>\n",
              "      <td>Theo Billboard , luật pháp Tây Ban Nha quy địn...</td>\n",
              "      <td>nhac-pop</td>\n",
              "    </tr>\n",
              "  </tbody>\n",
              "</table>\n",
              "</div>"
            ],
            "text/plain": [
              "                                             feature  Category\n",
              "0  Hồ Ngọc Hà từng ghi dấu ấn trong làng nhạc Việ...  nhac-pop\n",
              "1  Chiều 17 / 7 tại TP HCM , Hương Tràm tổ chức b...  nhac-pop\n",
              "2  Học trò của Đàm Vĩnh Hưng vừa trình làng mini ...  nhac-pop\n",
              "3  Lệ Quyên cho biết cô sẽ thay đổi cách hát cũng...  nhac-pop\n",
              "4  Theo Billboard , luật pháp Tây Ban Nha quy địn...  nhac-pop"
            ]
          },
          "metadata": {
            "tags": []
          },
          "execution_count": 11
        }
      ]
    },
    {
      "cell_type": "code",
      "metadata": {
        "id": "-BCFn1nrje7c",
        "colab_type": "code",
        "outputId": "c0d3117c-4c26-465c-d754-291f19e5e5a4",
        "colab": {
          "base_uri": "https://localhost:8080/",
          "height": 331
        }
      },
      "source": [
        "!pip install pyvi\n",
        "\n",
        "import pandas as pd\n",
        "from joblib import load,dump\n",
        "import requests\n",
        "import numpy as np\n",
        "from pyvi import ViPosTagger, ViTokenizer"
      ],
      "execution_count": 0,
      "outputs": [
        {
          "output_type": "stream",
          "text": [
            "Collecting pyvi\n",
            "\u001b[?25l  Downloading https://files.pythonhosted.org/packages/31/73/89be26d66c71f3bcca1de13bb73a9d622fabe282b55e518d68e86081d4e6/pyvi-0.0.9.7-py2.py3-none-any.whl (8.7MB)\n",
            "\u001b[K     |████████████████████████████████| 8.8MB 1.3MB/s \n",
            "\u001b[?25hRequirement already satisfied: scikit-learn in /usr/local/lib/python3.6/dist-packages (from pyvi) (0.22.2.post1)\n",
            "Collecting sklearn-crfsuite\n",
            "  Downloading https://files.pythonhosted.org/packages/25/74/5b7befa513482e6dee1f3dd68171a6c9dfc14c0eaa00f885ffeba54fe9b0/sklearn_crfsuite-0.3.6-py2.py3-none-any.whl\n",
            "Requirement already satisfied: joblib>=0.11 in /usr/local/lib/python3.6/dist-packages (from scikit-learn->pyvi) (0.14.1)\n",
            "Requirement already satisfied: scipy>=0.17.0 in /usr/local/lib/python3.6/dist-packages (from scikit-learn->pyvi) (1.4.1)\n",
            "Requirement already satisfied: numpy>=1.11.0 in /usr/local/lib/python3.6/dist-packages (from scikit-learn->pyvi) (1.18.2)\n",
            "Collecting python-crfsuite>=0.8.3\n",
            "\u001b[?25l  Downloading https://files.pythonhosted.org/packages/95/99/869dde6dbf3e0d07a013c8eebfb0a3d30776334e0097f8432b631a9a3a19/python_crfsuite-0.9.7-cp36-cp36m-manylinux1_x86_64.whl (743kB)\n",
            "\u001b[K     |████████████████████████████████| 747kB 51.0MB/s \n",
            "\u001b[?25hRequirement already satisfied: tabulate in /usr/local/lib/python3.6/dist-packages (from sklearn-crfsuite->pyvi) (0.8.7)\n",
            "Requirement already satisfied: tqdm>=2.0 in /usr/local/lib/python3.6/dist-packages (from sklearn-crfsuite->pyvi) (4.38.0)\n",
            "Requirement already satisfied: six in /usr/local/lib/python3.6/dist-packages (from sklearn-crfsuite->pyvi) (1.12.0)\n",
            "Installing collected packages: python-crfsuite, sklearn-crfsuite, pyvi\n",
            "Successfully installed python-crfsuite-0.9.7 pyvi-0.0.9.7 sklearn-crfsuite-0.3.6\n"
          ],
          "name": "stdout"
        }
      ]
    },
    {
      "cell_type": "code",
      "metadata": {
        "id": "4VL_Q2TQiAzw",
        "colab_type": "code",
        "colab": {}
      },
      "source": [
        "des_name = path + \"new_text.csv\""
      ],
      "execution_count": 0,
      "outputs": []
    },
    {
      "cell_type": "code",
      "metadata": {
        "id": "6h8blfgPh9BA",
        "colab_type": "code",
        "colab": {}
      },
      "source": [
        "new_data = df.to_csv(des_name)"
      ],
      "execution_count": 0,
      "outputs": []
    },
    {
      "cell_type": "code",
      "metadata": {
        "id": "PDaiCYVfToxp",
        "colab_type": "code",
        "colab": {}
      },
      "source": [
        "def makelower(row):\n",
        "  return row.feature.lower()"
      ],
      "execution_count": 0,
      "outputs": []
    },
    {
      "cell_type": "code",
      "metadata": {
        "id": "fsgUrxfZdmce",
        "colab_type": "code",
        "colab": {}
      },
      "source": [
        "\"\"\"============\"\"\"\n",
        "def read_stopwords(filePath):\n",
        "  \"\"\" đọc file stopwords \"\"\"\n",
        "  with open(filePath, 'r', encoding=\"utf8\") as f:\n",
        "    stopwords = set([w.strip().replace(' ', '_') for w in f.readlines()])\n",
        "  return stopwords"
      ],
      "execution_count": 0,
      "outputs": []
    },
    {
      "cell_type": "code",
      "metadata": {
        "id": "sKBTxM8lx5Or",
        "colab_type": "code",
        "colab": {}
      },
      "source": [
        "\"\"\"============\"\"\"\n",
        "def transformtext(content):\n",
        "  text_idf = ViPosTagger.postagging(ViTokenizer.tokenize(content.feature.lower()))\n",
        "  tokens = text_idf[0]\n",
        "  tags = text_idf[1]\n",
        "  removeListTag = ['F','X']\n",
        "  wordlist = []\n",
        "  for index in range(0, len(tokens)):\n",
        "    if tags[index] not in removeListTag:\n",
        "      wordlist.append(tokens[index])\n",
        "      for word in stop_words:\n",
        "        if word in wordlist:\n",
        "          wordlist.remove(word)\n",
        "  \n",
        "  text_idf = ''\n",
        "  text_idf = ' '.join(wordlist)\n",
        "  del(wordlist)\n",
        "  return text_idf"
      ],
      "execution_count": 0,
      "outputs": []
    },
    {
      "cell_type": "code",
      "metadata": {
        "id": "6J_ttpoOymPd",
        "colab_type": "code",
        "colab": {}
      },
      "source": [
        "# df[\"new_feature\"] = df.apply(makelower,axis=1)"
      ],
      "execution_count": 0,
      "outputs": []
    },
    {
      "cell_type": "code",
      "metadata": {
        "id": "-Ki_2aXXWK15",
        "colab_type": "code",
        "colab": {}
      },
      "source": [
        "df[\"new_feature\"] = df.apply(transformtext,axis=1)"
      ],
      "execution_count": 0,
      "outputs": []
    },
    {
      "cell_type": "code",
      "metadata": {
        "id": "Dk1rMbopmqr0",
        "colab_type": "code",
        "colab": {}
      },
      "source": [
        "des_name_2 = path + \"new_final_text.csv\"\n",
        "df.to_csv(des_name_2)"
      ],
      "execution_count": 0,
      "outputs": []
    },
    {
      "cell_type": "code",
      "metadata": {
        "id": "5zlCWGTFks8Y",
        "colab_type": "code",
        "colab": {}
      },
      "source": [
        "### trying  : remove number, remove special character , remove Noun , remove english ... \n",
        "### add data train more label\n",
        "### merege some label"
      ],
      "execution_count": 0,
      "outputs": []
    },
    {
      "cell_type": "code",
      "metadata": {
        "id": "y-5y31jAWWwL",
        "colab_type": "code",
        "outputId": "f040e92a-5576-49d4-b4f8-b0d8c4d10bd1",
        "colab": {
          "base_uri": "https://localhost:8080/",
          "height": 204
        }
      },
      "source": [
        "df.head(5)"
      ],
      "execution_count": 0,
      "outputs": [
        {
          "output_type": "execute_result",
          "data": {
            "text/html": [
              "<div>\n",
              "<style scoped>\n",
              "    .dataframe tbody tr th:only-of-type {\n",
              "        vertical-align: middle;\n",
              "    }\n",
              "\n",
              "    .dataframe tbody tr th {\n",
              "        vertical-align: top;\n",
              "    }\n",
              "\n",
              "    .dataframe thead th {\n",
              "        text-align: right;\n",
              "    }\n",
              "</style>\n",
              "<table border=\"1\" class=\"dataframe\">\n",
              "  <thead>\n",
              "    <tr style=\"text-align: right;\">\n",
              "      <th></th>\n",
              "      <th>feature</th>\n",
              "      <th>Category</th>\n",
              "      <th>new_feature</th>\n",
              "    </tr>\n",
              "  </thead>\n",
              "  <tbody>\n",
              "    <tr>\n",
              "      <th>0</th>\n",
              "      <td>Hồ_Ngọc_Hà từng ghi dấu_ấn trong làng nhạc Việ...</td>\n",
              "      <td>nhac-pop</td>\n",
              "      <td>hồ_ngọc_hà từng ghi dấu_ấn trong làng nhạc việ...</td>\n",
              "    </tr>\n",
              "    <tr>\n",
              "      <th>1</th>\n",
              "      <td>Chiều 17 / 7 tại TP HCM , Hương Tràm tổ_chức b...</td>\n",
              "      <td>nhac-pop</td>\n",
              "      <td>chiều 17 / 7 tại tp hcm , hương tràm tổ_chức b...</td>\n",
              "    </tr>\n",
              "    <tr>\n",
              "      <th>2</th>\n",
              "      <td>Học_trò của Đàm_Vĩnh_Hưng vừa trình_làng mini ...</td>\n",
              "      <td>nhac-pop</td>\n",
              "      <td>học_trò của đàm_vĩnh_hưng vừa trình_làng mini ...</td>\n",
              "    </tr>\n",
              "    <tr>\n",
              "      <th>3</th>\n",
              "      <td>Lệ_Quyên cho biết cô sẽ thay_đổi cách hát cũng...</td>\n",
              "      <td>nhac-pop</td>\n",
              "      <td>lệ_quyên cho biết cô sẽ thay_đổi cách hát cũng...</td>\n",
              "    </tr>\n",
              "    <tr>\n",
              "      <th>4</th>\n",
              "      <td>Theo Billboard , luật_pháp Tây_Ban Nha quy_địn...</td>\n",
              "      <td>nhac-pop</td>\n",
              "      <td>theo billboard , luật_pháp tây_ban nha quy_địn...</td>\n",
              "    </tr>\n",
              "  </tbody>\n",
              "</table>\n",
              "</div>"
            ],
            "text/plain": [
              "                                             feature  ...                                        new_feature\n",
              "0  Hồ_Ngọc_Hà từng ghi dấu_ấn trong làng nhạc Việ...  ...  hồ_ngọc_hà từng ghi dấu_ấn trong làng nhạc việ...\n",
              "1  Chiều 17 / 7 tại TP HCM , Hương Tràm tổ_chức b...  ...  chiều 17 / 7 tại tp hcm , hương tràm tổ_chức b...\n",
              "2  Học_trò của Đàm_Vĩnh_Hưng vừa trình_làng mini ...  ...  học_trò của đàm_vĩnh_hưng vừa trình_làng mini ...\n",
              "3  Lệ_Quyên cho biết cô sẽ thay_đổi cách hát cũng...  ...  lệ_quyên cho biết cô sẽ thay_đổi cách hát cũng...\n",
              "4  Theo Billboard , luật_pháp Tây_Ban Nha quy_địn...  ...  theo billboard , luật_pháp tây_ban nha quy_địn...\n",
              "\n",
              "[5 rows x 3 columns]"
            ]
          },
          "metadata": {
            "tags": []
          },
          "execution_count": 14
        }
      ]
    },
    {
      "cell_type": "code",
      "metadata": {
        "id": "tF1WPXm6ksFA",
        "colab_type": "code",
        "colab": {}
      },
      "source": [
        ""
      ],
      "execution_count": 0,
      "outputs": []
    },
    {
      "cell_type": "code",
      "metadata": {
        "id": "8C0JkeajWWDJ",
        "colab_type": "code",
        "colab": {}
      },
      "source": [
        "# generate txt "
      ],
      "execution_count": 0,
      "outputs": []
    },
    {
      "cell_type": "code",
      "metadata": {
        "id": "uhdfCp_EY5Nz",
        "colab_type": "code",
        "colab": {}
      },
      "source": [
        "from gensim.models import word2vec\n"
      ],
      "execution_count": 0,
      "outputs": []
    },
    {
      "cell_type": "code",
      "metadata": {
        "id": "AMbR-XIRmW9M",
        "colab_type": "code",
        "colab": {}
      },
      "source": [
        "## convert bin to txt"
      ],
      "execution_count": 0,
      "outputs": []
    },
    {
      "cell_type": "code",
      "metadata": {
        "id": "uVmJZO38Toxv",
        "colab_type": "code",
        "colab": {}
      },
      "source": [
        "file_bin = \"baomoi.window2.vn.model.bin\""
      ],
      "execution_count": 0,
      "outputs": []
    },
    {
      "cell_type": "code",
      "metadata": {
        "id": "DHPIVj56Toxx",
        "colab_type": "code",
        "colab": {}
      },
      "source": [
        "fn  = path + file_bin"
      ],
      "execution_count": 0,
      "outputs": []
    },
    {
      "cell_type": "code",
      "metadata": {
        "id": "B2u3ujnAoIZL",
        "colab_type": "code",
        "colab": {}
      },
      "source": [
        "des_fn = path + \"baomoi.window2.vn.model.txt\""
      ],
      "execution_count": 0,
      "outputs": []
    },
    {
      "cell_type": "code",
      "metadata": {
        "id": "Rs9CDvrjY-eN",
        "colab_type": "code",
        "colab": {}
      },
      "source": [
        "from gensim.models.keyedvectors import KeyedVectors\n",
        "# model = KeyedVectors.load_word2vec_format(fn, binary=True)\n",
        "# model.save_word2vec_format(des_fn, binary=False)"
      ],
      "execution_count": 0,
      "outputs": []
    },
    {
      "cell_type": "code",
      "metadata": {
        "id": "a8GLN6W-Tox0",
        "colab_type": "code",
        "colab": {}
      },
      "source": [
        "df = df.dropna()"
      ],
      "execution_count": 0,
      "outputs": []
    },
    {
      "cell_type": "code",
      "metadata": {
        "id": "ZH6sygwyTox3",
        "colab_type": "code",
        "colab": {}
      },
      "source": [
        "mult_nb = Pipeline([(\"count_vectorizer\", CountVectorizer(analyzer=lambda x: x)), (\"multinomial nb\", MultinomialNB())])\n",
        "bern_nb = Pipeline([(\"count_vectorizer\", CountVectorizer(analyzer=lambda x: x)), (\"bernoulli nb\", BernoulliNB())])\n",
        "mult_nb_tfidf = Pipeline([(\"tfidf_vectorizer\", TfidfVectorizer(analyzer=lambda x: x)), (\"multinomial nb\", MultinomialNB())])\n",
        "bern_nb_tfidf = Pipeline([(\"tfidf_vectorizer\", TfidfVectorizer(analyzer=lambda x: x)), (\"bernoulli nb\", BernoulliNB())])\n",
        "# SVM - which is supposed to be more or less state of the art \n",
        "http://www.cs.cornell.edu/people/tj/publications/joachims_98a.pdf\n",
        "svc = Pipeline([(\"count_vectorizer\", CountVectorizer(analyzer=lambda x: x)), (\"linear svc\", SVC(kernel=\"linear\"))])\n",
        "svc_tfidf = Pipeline([(\"tfidf_vectorizer\", TfidfVectorizer(analyzer=lambda x: x)), (\"linear svc\", SVC(kernel=\"linear\"))])"
      ],
      "execution_count": 0,
      "outputs": []
    },
    {
      "cell_type": "code",
      "metadata": {
        "id": "C6uQzoera5L9",
        "colab_type": "code",
        "colab": {}
      },
      "source": [
        "X, y = [], []\n",
        "arrText = df['new_feature'].values.tolist()\n",
        "arrLabel = df['Category'].values.tolist()"
      ],
      "execution_count": 0,
      "outputs": []
    },
    {
      "cell_type": "code",
      "metadata": {
        "id": "2bXhxRZHTox6",
        "colab_type": "code",
        "outputId": "398e0b0b-2387-4264-b1dc-f88e5e7c4bfc",
        "colab": {
          "base_uri": "https://localhost:8080/",
          "height": 34
        }
      },
      "source": [
        "X, y = [], []\n",
        "for line in arrText:\n",
        "    X.append(line.split())\n",
        "for lb in arrLabel:\n",
        "    y.append(lb)\n",
        "X, y = np.array(X), np.array(y)\n",
        "print (\"total examples %s\" % len(y))\n"
      ],
      "execution_count": 0,
      "outputs": [
        {
          "output_type": "stream",
          "text": [
            "total examples 51663\n"
          ],
          "name": "stdout"
        }
      ]
    },
    {
      "cell_type": "code",
      "metadata": {
        "id": "smEDN9sqmdW4",
        "colab_type": "code",
        "colab": {}
      },
      "source": [
        "## pretrain model w2v"
      ],
      "execution_count": 0,
      "outputs": []
    },
    {
      "cell_type": "code",
      "metadata": {
        "id": "SaswZ5nITox9",
        "colab_type": "code",
        "colab": {}
      },
      "source": [
        "model = Word2Vec(X, size=100, window=5, min_count=5, workers=2)\n",
        "w2v = {w: vec for w, vec in zip(model.wv.index2word, model.wv.syn0)}"
      ],
      "execution_count": 0,
      "outputs": []
    },
    {
      "cell_type": "code",
      "metadata": {
        "id": "ntX1OpUhK-tb",
        "colab_type": "code",
        "colab": {}
      },
      "source": [
        ""
      ],
      "execution_count": 0,
      "outputs": []
    },
    {
      "cell_type": "code",
      "metadata": {
        "id": "X9PI1pSrTox_",
        "colab_type": "code",
        "colab": {}
      },
      "source": [
        "name_w2v = path + 'baomoi.window2.vn.model.txt'"
      ],
      "execution_count": 0,
      "outputs": []
    },
    {
      "cell_type": "code",
      "metadata": {
        "id": "4Y1yuvb0ToyE",
        "colab_type": "code",
        "colab": {}
      },
      "source": [
        "encoding=\"utf-8\"\n",
        "all_words = set(w for words in X for w in words)"
      ],
      "execution_count": 0,
      "outputs": []
    },
    {
      "cell_type": "code",
      "metadata": {
        "id": "QzV5Ic8aToyH",
        "colab_type": "code",
        "colab": {}
      },
      "source": [
        "glove_small = {}\n",
        "with open(name_w2v, \"rb\") as infile:\n",
        "    for line in infile:\n",
        "        parts = line.split()\n",
        "        word = parts[0].decode(encoding)\n",
        "        if word in all_words:\n",
        "            nums=np.array(parts[1:], dtype=np.float32)\n",
        "            glove_small[word] = nums"
      ],
      "execution_count": 0,
      "outputs": []
    },
    {
      "cell_type": "code",
      "metadata": {
        "id": "qLQdZI2ecnB-",
        "colab_type": "code",
        "colab": {}
      },
      "source": [
        "class MeanEmbeddingVectorizer(object):\n",
        "    def __init__(self, word2vec):\n",
        "        self.word2vec = word2vec\n",
        "        if len(word2vec)>0:\n",
        "            self.dim=len(word2vec[next(iter(glove_small))])\n",
        "        else:\n",
        "            self.dim=0\n",
        "            \n",
        "    def fit(self, X, y):\n",
        "        return self \n",
        "\n",
        "    def transform(self, X):\n",
        "        return np.array([\n",
        "            np.mean([self.word2vec[w] for w in words if w in self.word2vec] \n",
        "                    or [np.zeros(self.dim)], axis=0)\n",
        "            for words in X\n",
        "        ])\n",
        "\n",
        "    \n",
        "# and a tf-idf version of the same\n",
        "class TfidfEmbeddingVectorizer(object):\n",
        "    def __init__(self, word2vec):\n",
        "        self.word2vec = word2vec\n",
        "        self.word2weight = None\n",
        "        if len(word2vec)>0:\n",
        "            self.dim=len(word2vec[next(iter(glove_small))])\n",
        "        else:\n",
        "            self.dim=0\n",
        "        \n",
        "    def fit(self, X, y):\n",
        "        tfidf = TfidfVectorizer(analyzer=lambda x: x)\n",
        "        tfidf.fit(X)\n",
        "        # if a word was never seen - it must be at least as infrequent\n",
        "        # as any of the known words - so the default idf is the max of \n",
        "        # known idf's\n",
        "        max_idf = max(tfidf.idf_)\n",
        "        self.word2weight = defaultdict(\n",
        "            lambda: max_idf, \n",
        "            [(w, tfidf.idf_[i]) for w, i in tfidf.vocabulary_.items()])\n",
        "    \n",
        "        return self\n",
        "    \n",
        "    def transform(self, X):\n",
        "        return np.array([\n",
        "                np.mean([self.word2vec[w] * self.word2weight[w]\n",
        "                         for w in words if w in self.word2vec] or\n",
        "                        [np.zeros(self.dim)], axis=0)\n",
        "                for words in X\n",
        "            ])"
      ],
      "execution_count": 0,
      "outputs": []
    },
    {
      "cell_type": "code",
      "metadata": {
        "id": "NzxuBbxNcoG_",
        "colab_type": "code",
        "outputId": "69355f67-7e12-43b9-d9ab-a0953c679682",
        "colab": {
          "base_uri": "https://localhost:8080/",
          "height": 119
        }
      },
      "source": [
        "all_models = [\n",
        "\n",
        "    (\"svc\", svc),\n",
        "    (\"svc_tfidf\", svc_tfidf),\n",
        "    (\"glove_small\", etree_baomoi_small), \n",
        "    (\"glove_small_tfidf\", etree_baomoi_small_tfidf),\n",
        "    (\"w2v\", etree_w2v),\n",
        "    (\"w2v_tfidf\", etree_w2v_tfidf)\n",
        "]\n",
        "\n",
        "unsorted_scores = [(name, cross_val_score(model,X,y, cv=5).mean()) for name, model in all_models]\n",
        "scores = sorted(unsorted_scores, key=lambda x: -x[1])\n",
        "\n",
        "\n",
        "print (tabulate(scores, floatfmt=\".4f\", headers=(\"model\", 'score')))"
      ],
      "execution_count": 0,
      "outputs": [
        {
          "output_type": "stream",
          "text": [
            "model                score\n",
            "-----------------  -------\n",
            "svc_tfidf           0.8961\n",
            "w2v_tfidf           0.8159\n",
            "glove_small_tfidf   0.8134\n",
            "glove_small         0.8083\n"
          ],
          "name": "stdout"
        }
      ]
    },
    {
      "cell_type": "code",
      "metadata": {
        "id": "sBoaqdRvocme",
        "colab_type": "code",
        "outputId": "2e9d60d5-8a4c-4deb-9526-1172d204bf9e",
        "colab": {
          "base_uri": "https://localhost:8080/",
          "height": 119
        }
      },
      "source": [
        "print (tabulate(scores, floatfmt=\".4f\", headers=(\"model\", 'score')))"
      ],
      "execution_count": 0,
      "outputs": [
        {
          "output_type": "stream",
          "text": [
            "model                score\n",
            "-----------------  -------\n",
            "svc_tfidf           0.8961\n",
            "w2v_tfidf           0.8159\n",
            "glove_small_tfidf   0.8134\n",
            "glove_small         0.8083\n"
          ],
          "name": "stdout"
        }
      ]
    },
    {
      "cell_type": "code",
      "metadata": {
        "id": "PnNyCDGzFBEZ",
        "colab_type": "code",
        "colab": {}
      },
      "source": [
        "\"\"\"============\"\"\"\n",
        "def read_stopwords(filePath):\n",
        "  \"\"\" đọc file stopwords \"\"\"\n",
        "  with open(filePath, 'r', encoding=\"utf8\") as f:\n",
        "    stopwords = set([w.strip().replace(' ', '_') for w in f.readlines()])\n",
        "  return stopwords\n"
      ],
      "execution_count": 0,
      "outputs": []
    },
    {
      "cell_type": "code",
      "metadata": {
        "id": "q0fYdvk7To0p",
        "colab_type": "code",
        "colab": {}
      },
      "source": [
        "def benchmark(model, X, y, n):\n",
        "    test_size = 1 - (n / float(len(y)))\n",
        "    scores = []\n",
        "    sss = StratifiedShuffleSplit(n_splits=5, test_size=test_size, random_state=0)\n",
        "    \n",
        "    for train_index, test_index in sss.split(X, y):\n",
        "    \n",
        "        X_train, X_test = X[train_index], X[test_index]\n",
        "        y_train, y_test = y[train_index], y[test_index]\n",
        "        scores.append(accuracy_score(model.fit(X_train, y_train).predict(X_test), y_test))\n",
        "    return np.mean(scores)"
      ],
      "execution_count": 0,
      "outputs": []
    },
    {
      "cell_type": "code",
      "metadata": {
        "scrolled": true,
        "id": "4gcTMNwnTo0t",
        "colab_type": "code",
        "colab": {}
      },
      "source": [
        "train_sizes = [40, 160, 640, 3200, 6400,12800]\n",
        "table = []\n",
        "for name, model in all_models:\n",
        "#     print (name)\n",
        "#     print (model)\n",
        "    for n in train_sizes:\n",
        "        print(n)\n",
        "        table.append({'model': name, \n",
        "                      'accuracy': benchmark(model, X, y, n), \n",
        "                      'train_size': n})\n",
        "df = pd.DataFrame(table)"
      ],
      "execution_count": 0,
      "outputs": []
    },
    {
      "cell_type": "code",
      "metadata": {
        "id": "yGXb8mRmTo0w",
        "colab_type": "code",
        "outputId": "7540818b-f426-48a6-906a-56e50fab0cc1",
        "colab": {}
      },
      "source": [
        "\n",
        "plt.figure(figsize=(15, 6))\n",
        "fig = sns.pointplot(x='train_size', y='accuracy', hue='model', \n",
        "                    data=df[df.model.map(lambda x: x in [\"svc\", \"svc_tfidf\",\"glove_small\",\n",
        "                                                         \"glove_small_tfidf\",\"w2v\",\"w2v_tfidf\"])])\n",
        "sns.set_context(\"notebook\", font_scale=1.5)\n",
        "fig.set(ylabel=\"accuracy\")\n",
        "fig.set(xlabel=\"labeled training examples\")\n",
        "fig.set(title=\"model benchmark\")\n",
        "fig.set(ylabel=\"accuracy\")"
      ],
      "execution_count": 0,
      "outputs": [
        {
          "output_type": "execute_result",
          "data": {
            "text/plain": [
              "[Text(0, 0.5, 'accuracy')]"
            ]
          },
          "metadata": {
            "tags": []
          },
          "execution_count": 231
        },
        {
          "output_type": "display_data",
          "data": {
            "image/png": "[encoded data removed]",
            "text/plain": [
              "<Figure size 1080x432 with 1 Axes>"
            ]
          },
          "metadata": {
            "tags": [],
            "needs_background": "light"
          }
        }
      ]
    },
    {
      "cell_type": "code",
      "metadata": {
        "id": "FHALFV-CTo0y",
        "colab_type": "code",
        "colab": {}
      },
      "source": [
        "###test"
      ],
      "execution_count": 0,
      "outputs": []
    },
    {
      "cell_type": "code",
      "metadata": {
        "id": "l4SNiI1rTo1H",
        "colab_type": "code",
        "colab": {}
      },
      "source": [
        ""
      ],
      "execution_count": 0,
      "outputs": []
    }
  ]
}