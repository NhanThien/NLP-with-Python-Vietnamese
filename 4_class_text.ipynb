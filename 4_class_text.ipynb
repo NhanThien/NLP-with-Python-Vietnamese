{
  "nbformat": 4,
  "nbformat_minor": 0,
  "metadata": {
    "colab": {
      "name": "4_class_text.ipynb",
      "provenance": [],
      "collapsed_sections": []
    },
    "kernelspec": {
      "name": "python3",
      "display_name": "Python 3"
    }
  },
  "cells": [
    {
      "cell_type": "code",
      "metadata": {
        "id": "ApqeKRaizp2I",
        "colab_type": "code",
        "colab": {}
      },
      "source": [
        "from tabulate import tabulate\n",
        "%matplotlib inline\n",
        "import matplotlib.pyplot as plt\n",
        "import seaborn as sns\n",
        "import pandas as pd\n",
        "import numpy as np\n",
        "from gensim.models.word2vec import Word2Vec\n",
        "from collections import Counter, defaultdict\n",
        "from sklearn.feature_extraction.text import CountVectorizer\n",
        "from sklearn.feature_extraction.text import TfidfVectorizer\n",
        "from sklearn.ensemble import ExtraTreesClassifier\n",
        "from sklearn.naive_bayes import BernoulliNB, MultinomialNB\n",
        "from sklearn.pipeline import Pipeline\n",
        "from sklearn.svm import SVC\n",
        "from sklearn.metrics import accuracy_score\n",
        "from sklearn.model_selection import *\n",
        "# from sklearn.cross_validation import cross_val_score\n",
        "from sklearn.model_selection import StratifiedShuffleSplit\n",
        "from sklearn.model_selection import cross_val_score"
      ],
      "execution_count": 0,
      "outputs": []
    },
    {
      "cell_type": "code",
      "metadata": {
        "id": "WJDDC9Bx2OLw",
        "colab_type": "code",
        "colab": {
          "base_uri": "https://localhost:8080/",
          "height": 128
        },
        "outputId": "5dc275cf-078f-4a26-b924-eb4f017da114"
      },
      "source": [
        "from google.colab import drive\n",
        "drive.mount('/content/gdrive')"
      ],
      "execution_count": 3,
      "outputs": [
        {
          "output_type": "stream",
          "text": [
            "Go to this URL in a browser: https://accounts.google.com/o/oauth2/auth?client_id=947318989803-6bn6qk8qdgf4n4g3pfee6491hc0brc4i.apps.googleusercontent.com&redirect_uri=urn%3aietf%3awg%3aoauth%3a2.0%3aoob&response_type=code&scope=email%20https%3a%2f%2fwww.googleapis.com%2fauth%2fdocs.test%20https%3a%2f%2fwww.googleapis.com%2fauth%2fdrive%20https%3a%2f%2fwww.googleapis.com%2fauth%2fdrive.photos.readonly%20https%3a%2f%2fwww.googleapis.com%2fauth%2fpeopleapi.readonly\n",
            "\n",
            "Enter your authorization code:\n",
            "··········\n",
            "Mounted at /content/gdrive\n"
          ],
          "name": "stdout"
        }
      ]
    },
    {
      "cell_type": "code",
      "metadata": {
        "id": "FDvo0xG513KV",
        "colab_type": "code",
        "colab": {}
      },
      "source": [
        ""
      ],
      "execution_count": 0,
      "outputs": []
    },
    {
      "cell_type": "code",
      "metadata": {
        "id": "-xQYF2KF194V",
        "colab_type": "code",
        "colab": {
          "base_uri": "https://localhost:8080/",
          "height": 581
        },
        "outputId": "8a02a304-66ab-4f8d-f257-10ba0df73cf5"
      },
      "source": [
        "path = \"/content/gdrive/My Drive/Tip_Travel_BinhThuan/\"\n",
        "fn_path = path + \"new_final_text.csv\"\n",
        "df = pd.read_csv(fn_path)\n",
        "df = df[['new_feature','Category']]\n",
        "cates = df.groupby('Category')\n",
        "print(\"total categories:\", cates.ngroups)\n",
        "print(cates.size())"
      ],
      "execution_count": 5,
      "outputs": [
        {
          "output_type": "stream",
          "text": [
            "total categories: 28\n",
            "Category\n",
            "am-thuc               1341\n",
            "bat-dong-san          2328\n",
            "cong-nghe             3311\n",
            "du-lich               2001\n",
            "game                   165\n",
            "gia-dinh              2042\n",
            "giao-duc              2001\n",
            "khoa-hoc              2001\n",
            "kinh-doanh            1999\n",
            "mua-sam               1122\n",
            "my-thuat               193\n",
            "nghe-nghiep           1619\n",
            "nha-vuon              2994\n",
            "nhac-pop              3628\n",
            "phim                  4003\n",
            "sach                  2237\n",
            "song-khoe             2001\n",
            "su-kien               1004\n",
            "suc-khoe-y-khoa       1429\n",
            "tai-chinh-ca-nhan      817\n",
            "tam-linh               868\n",
            "the-thao              2001\n",
            "thoi-quen-so-thich     316\n",
            "thoi-su               2001\n",
            "thoi-trang            3089\n",
            "thu-cung               393\n",
            "truyen-hinh           3061\n",
            "xe                    1698\n",
            "dtype: int64\n"
          ],
          "name": "stdout"
        }
      ]
    },
    {
      "cell_type": "code",
      "metadata": {
        "id": "DssAOGJy2cAo",
        "colab_type": "code",
        "colab": {}
      },
      "source": [
        "df.Category = df.Category.map(lambda x: \"song-khoe\" if x == \"suc-khoe-y-khoa\" else x)\n"
      ],
      "execution_count": 0,
      "outputs": []
    },
    {
      "cell_type": "code",
      "metadata": {
        "id": "9y7pcBQO3Pb6",
        "colab_type": "code",
        "colab": {}
      },
      "source": [
        "cates = df.groupby('Category')\n",
        "print(\"total categories:\", cates.ngroups)\n",
        "print(cates.size())"
      ],
      "execution_count": 0,
      "outputs": []
    },
    {
      "cell_type": "code",
      "metadata": {
        "id": "eXFyhvU03SNg",
        "colab_type": "code",
        "colab": {}
      },
      "source": [
        ""
      ],
      "execution_count": 0,
      "outputs": []
    },
    {
      "cell_type": "code",
      "metadata": {
        "id": "8ruKViQB5tVS",
        "colab_type": "code",
        "colab": {}
      },
      "source": [
        "labels =  ['song-khoe','nhac-pop','bat-dong-san','giao-duc','thoi-su']"
      ],
      "execution_count": 0,
      "outputs": []
    },
    {
      "cell_type": "code",
      "metadata": {
        "id": "WQw4_UXP8G39",
        "colab_type": "code",
        "colab": {}
      },
      "source": [
        "arr_df = []"
      ],
      "execution_count": 0,
      "outputs": []
    },
    {
      "cell_type": "code",
      "metadata": {
        "id": "RlpXWgnD54Wx",
        "colab_type": "code",
        "colab": {
          "base_uri": "https://localhost:8080/",
          "height": 108
        },
        "outputId": "e1442712-9048-4689-e4ea-a8a7b326fc28"
      },
      "source": [
        "for label in labels :\n",
        "  print (label)\n",
        "  tmp_df = df[df.Category == label]\n",
        "  arr_df.append(tmp_df)"
      ],
      "execution_count": 37,
      "outputs": [
        {
          "output_type": "stream",
          "text": [
            "song-khoe\n",
            "nhac-pop\n",
            "bat-dong-san\n",
            "giao-duc\n",
            "thoi-su\n"
          ],
          "name": "stdout"
        }
      ]
    },
    {
      "cell_type": "code",
      "metadata": {
        "id": "QsM9ohQn6fuw",
        "colab_type": "code",
        "colab": {}
      },
      "source": [
        "new_df = pd.concat(arr_df)"
      ],
      "execution_count": 0,
      "outputs": []
    },
    {
      "cell_type": "code",
      "metadata": {
        "id": "M9FSXi_a8j3R",
        "colab_type": "code",
        "colab": {
          "base_uri": "https://localhost:8080/",
          "height": 198
        },
        "outputId": "807f617d-d446-4600-e9e8-6f17b8e7d7f0"
      },
      "source": [
        "new_df.head(5)"
      ],
      "execution_count": 33,
      "outputs": [
        {
          "output_type": "execute_result",
          "data": {
            "text/html": [
              "<div>\n",
              "<style scoped>\n",
              "    .dataframe tbody tr th:only-of-type {\n",
              "        vertical-align: middle;\n",
              "    }\n",
              "\n",
              "    .dataframe tbody tr th {\n",
              "        vertical-align: top;\n",
              "    }\n",
              "\n",
              "    .dataframe thead th {\n",
              "        text-align: right;\n",
              "    }\n",
              "</style>\n",
              "<table border=\"1\" class=\"dataframe\">\n",
              "  <thead>\n",
              "    <tr style=\"text-align: right;\">\n",
              "      <th></th>\n",
              "      <th>new_feature</th>\n",
              "      <th>Category</th>\n",
              "    </tr>\n",
              "  </thead>\n",
              "  <tbody>\n",
              "    <tr>\n",
              "      <th>10448</th>\n",
              "      <td>thực_phẩm nhiên_liệu nuôi_dưỡng cơ_thể xảy bữa...</td>\n",
              "      <td>song-khoe</td>\n",
              "    </tr>\n",
              "    <tr>\n",
              "      <th>10449</th>\n",
              "      <td>5 3 lãnh_đạo bệnh_viện đa_khoa tỉnh kiên_giang...</td>\n",
              "      <td>song-khoe</td>\n",
              "    </tr>\n",
              "    <tr>\n",
              "      <th>10450</th>\n",
              "      <td>phát_động chiến_dịch hưởng_ứng asean phòng_chố...</td>\n",
              "      <td>song-khoe</td>\n",
              "    </tr>\n",
              "    <tr>\n",
              "      <th>10451</th>\n",
              "      <td>bệnh_nhân ung_thư trải điều_trị nặng_nề phẫu_t...</td>\n",
              "      <td>song-khoe</td>\n",
              "    </tr>\n",
              "    <tr>\n",
              "      <th>10452</th>\n",
              "      <td>bác_sĩ phạm_quốc hùng trưởng_phòng công_tác xã...</td>\n",
              "      <td>song-khoe</td>\n",
              "    </tr>\n",
              "  </tbody>\n",
              "</table>\n",
              "</div>"
            ],
            "text/plain": [
              "                                             new_feature   Category\n",
              "10448  thực_phẩm nhiên_liệu nuôi_dưỡng cơ_thể xảy bữa...  song-khoe\n",
              "10449  5 3 lãnh_đạo bệnh_viện đa_khoa tỉnh kiên_giang...  song-khoe\n",
              "10450  phát_động chiến_dịch hưởng_ứng asean phòng_chố...  song-khoe\n",
              "10451  bệnh_nhân ung_thư trải điều_trị nặng_nề phẫu_t...  song-khoe\n",
              "10452  bác_sĩ phạm_quốc hùng trưởng_phòng công_tác xã...  song-khoe"
            ]
          },
          "metadata": {
            "tags": []
          },
          "execution_count": 33
        }
      ]
    },
    {
      "cell_type": "code",
      "metadata": {
        "id": "b9pEbf3r8nTQ",
        "colab_type": "code",
        "colab": {
          "base_uri": "https://localhost:8080/",
          "height": 54
        },
        "outputId": "dce54d60-8ffb-4ff8-acfc-daf0d263f86c"
      },
      "source": [
        "new_df.Category.unique()"
      ],
      "execution_count": 40,
      "outputs": [
        {
          "output_type": "execute_result",
          "data": {
            "text/plain": [
              "array(['song-khoe', 'nhac-pop', 'bat-dong-san', 'giao-duc', 'thoi-su'],\n",
              "      dtype=object)"
            ]
          },
          "metadata": {
            "tags": []
          },
          "execution_count": 40
        }
      ]
    },
    {
      "cell_type": "code",
      "metadata": {
        "id": "fDlqiAc0HGsZ",
        "colab_type": "code",
        "colab": {}
      },
      "source": [
        "cates = new_df.groupby('Category')\n",
        "print(\"total categories:\", cates.ngroups)\n",
        "print(cates.size())"
      ],
      "execution_count": 0,
      "outputs": []
    },
    {
      "cell_type": "code",
      "metadata": {
        "id": "oDV0zry88qMW",
        "colab_type": "code",
        "colab": {}
      },
      "source": [
        "\"\"\"============\"\"\"\n",
        "def read_stopwords(filePath):\n",
        "  \"\"\" đọc file stopwords \"\"\"\n",
        "  with open(filePath, 'r', encoding=\"utf8\") as f:\n",
        "    stopwords = set([w.strip().replace(' ', '_') for w in f.readlines()])\n",
        "  return stopwords"
      ],
      "execution_count": 0,
      "outputs": []
    },
    {
      "cell_type": "code",
      "metadata": {
        "id": "iZs7PUG-9mUb",
        "colab_type": "code",
        "colab": {}
      },
      "source": [
        "stopwords_path = path + \"stopwords-nlp-vi.txt\"\n",
        "stop_words = read_stopwords(stopwords_path)"
      ],
      "execution_count": 0,
      "outputs": []
    },
    {
      "cell_type": "code",
      "metadata": {
        "id": "rR1QygnU9o56",
        "colab_type": "code",
        "colab": {
          "base_uri": "https://localhost:8080/",
          "height": 326
        },
        "outputId": "c02654f2-afd2-4157-b676-b8de1d5522c4"
      },
      "source": [
        "!pip install pyvi\n",
        "\n",
        "import pandas as pd\n",
        "from joblib import load,dump\n",
        "import requests\n",
        "import numpy as np\n",
        "from pyvi import ViPosTagger, ViTokenizer"
      ],
      "execution_count": 43,
      "outputs": [
        {
          "output_type": "stream",
          "text": [
            "Collecting pyvi\n",
            "\u001b[?25l  Downloading https://files.pythonhosted.org/packages/31/73/89be26d66c71f3bcca1de13bb73a9d622fabe282b55e518d68e86081d4e6/pyvi-0.0.9.7-py2.py3-none-any.whl (8.7MB)\n",
            "\u001b[K     |████████████████████████████████| 8.8MB 2.9MB/s \n",
            "\u001b[?25hCollecting sklearn-crfsuite\n",
            "  Downloading https://files.pythonhosted.org/packages/25/74/5b7befa513482e6dee1f3dd68171a6c9dfc14c0eaa00f885ffeba54fe9b0/sklearn_crfsuite-0.3.6-py2.py3-none-any.whl\n",
            "Requirement already satisfied: scikit-learn in /usr/local/lib/python3.6/dist-packages (from pyvi) (0.22.2.post1)\n",
            "Requirement already satisfied: six in /usr/local/lib/python3.6/dist-packages (from sklearn-crfsuite->pyvi) (1.12.0)\n",
            "Requirement already satisfied: tabulate in /usr/local/lib/python3.6/dist-packages (from sklearn-crfsuite->pyvi) (0.8.7)\n",
            "Collecting python-crfsuite>=0.8.3\n",
            "\u001b[?25l  Downloading https://files.pythonhosted.org/packages/95/99/869dde6dbf3e0d07a013c8eebfb0a3d30776334e0097f8432b631a9a3a19/python_crfsuite-0.9.7-cp36-cp36m-manylinux1_x86_64.whl (743kB)\n",
            "\u001b[K     |████████████████████████████████| 747kB 39.3MB/s \n",
            "\u001b[?25hRequirement already satisfied: tqdm>=2.0 in /usr/local/lib/python3.6/dist-packages (from sklearn-crfsuite->pyvi) (4.38.0)\n",
            "Requirement already satisfied: numpy>=1.11.0 in /usr/local/lib/python3.6/dist-packages (from scikit-learn->pyvi) (1.18.2)\n",
            "Requirement already satisfied: scipy>=0.17.0 in /usr/local/lib/python3.6/dist-packages (from scikit-learn->pyvi) (1.4.1)\n",
            "Requirement already satisfied: joblib>=0.11 in /usr/local/lib/python3.6/dist-packages (from scikit-learn->pyvi) (0.14.1)\n",
            "Installing collected packages: python-crfsuite, sklearn-crfsuite, pyvi\n",
            "Successfully installed python-crfsuite-0.9.7 pyvi-0.0.9.7 sklearn-crfsuite-0.3.6\n"
          ],
          "name": "stdout"
        }
      ]
    },
    {
      "cell_type": "code",
      "metadata": {
        "id": "G7pPMzQv9q98",
        "colab_type": "code",
        "colab": {}
      },
      "source": [
        "\"\"\"============\"\"\"\n",
        "def transformtext(content):\n",
        "  text_idf = ViPosTagger.postagging(ViTokenizer.tokenize(content.lower()))\n",
        "  tokens = text_idf[0]\n",
        "  tags = text_idf[1]\n",
        "  removeListTag = ['F','X']\n",
        "  wordlist = []\n",
        "  for index in range(0, len(tokens)):\n",
        "    if tags[index] not in removeListTag:\n",
        "      wordlist.append(tokens[index])\n",
        "      for word in stop_words:\n",
        "        if word in wordlist:\n",
        "          wordlist.remove(word)\n",
        "  \n",
        "  text_idf = ''\n",
        "  text_idf = ' '.join(wordlist)\n",
        "  del(wordlist)\n",
        "  return text_idf"
      ],
      "execution_count": 0,
      "outputs": []
    },
    {
      "cell_type": "code",
      "metadata": {
        "id": "E5jeTTg99uUZ",
        "colab_type": "code",
        "colab": {}
      },
      "source": [
        "from gensim.models import word2vec\n"
      ],
      "execution_count": 0,
      "outputs": []
    },
    {
      "cell_type": "code",
      "metadata": {
        "id": "RemaKsGq9y0L",
        "colab_type": "code",
        "colab": {}
      },
      "source": [
        "new_path = \"/content/gdrive/My Drive/Colab Notebooks/\"\n",
        "file_bin = \"baomoi.window2.vn.model.bin\"\n",
        "fn  = new_path + file_bin"
      ],
      "execution_count": 0,
      "outputs": []
    },
    {
      "cell_type": "code",
      "metadata": {
        "id": "WlYQS7PE-OYS",
        "colab_type": "code",
        "colab": {}
      },
      "source": [
        ""
      ],
      "execution_count": 0,
      "outputs": []
    },
    {
      "cell_type": "code",
      "metadata": {
        "id": "gq58ij_a99IM",
        "colab_type": "code",
        "colab": {}
      },
      "source": [
        "X, y = [], []\n",
        "arrText = new_df['new_feature'].values.tolist()\n",
        "arrLabel = new_df['Category'].values.tolist()"
      ],
      "execution_count": 0,
      "outputs": []
    },
    {
      "cell_type": "code",
      "metadata": {
        "id": "nq9NDx3o-CS7",
        "colab_type": "code",
        "colab": {
          "base_uri": "https://localhost:8080/",
          "height": 35
        },
        "outputId": "72ed7ead-440e-426e-afbd-e8b9507bddc4"
      },
      "source": [
        "X, y = [], []\n",
        "for line in arrText:\n",
        "    X.append(line.split())\n",
        "for lb in arrLabel:\n",
        "    y.append(lb)\n",
        "X, y = np.array(X), np.array(y)\n",
        "print (\"total examples %s\" % len(y))"
      ],
      "execution_count": 52,
      "outputs": [
        {
          "output_type": "stream",
          "text": [
            "total examples 13388\n"
          ],
          "name": "stdout"
        }
      ]
    },
    {
      "cell_type": "code",
      "metadata": {
        "id": "-Q0OtEfX-FtH",
        "colab_type": "code",
        "colab": {
          "base_uri": "https://localhost:8080/",
          "height": 54
        },
        "outputId": "2757ba8a-752b-474d-dfc4-2a4cb1676ffe"
      },
      "source": [
        "model = Word2Vec(X, size=100, window=5, min_count=5, workers=2)\n",
        "w2v = {w: vec for w, vec in zip(model.wv.index2word, model.wv.syn0)}"
      ],
      "execution_count": 53,
      "outputs": [
        {
          "output_type": "stream",
          "text": [
            "/usr/local/lib/python3.6/dist-packages/ipykernel_launcher.py:2: DeprecationWarning: Call to deprecated `syn0` (Attribute will be removed in 4.0.0, use self.wv.vectors instead).\n",
            "  \n"
          ],
          "name": "stderr"
        }
      ]
    },
    {
      "cell_type": "code",
      "metadata": {
        "id": "2h_aDaAd-Tw_",
        "colab_type": "code",
        "colab": {}
      },
      "source": [
        "name_w2v = new_path + 'baomoi.window2.vn.model.txt'"
      ],
      "execution_count": 0,
      "outputs": []
    },
    {
      "cell_type": "code",
      "metadata": {
        "id": "7R-4Sn1i-aXQ",
        "colab_type": "code",
        "colab": {}
      },
      "source": [
        "encoding=\"utf-8\"\n",
        "all_words = set(w for words in X for w in words)\n",
        "glove_small = {}\n",
        "with open(name_w2v, \"rb\") as infile:\n",
        "    for line in infile:\n",
        "        parts = line.split()\n",
        "        word = parts[0].decode(encoding)\n",
        "        if word in all_words:\n",
        "            nums=np.array(parts[1:], dtype=np.float32)\n",
        "            glove_small[word] = nums"
      ],
      "execution_count": 0,
      "outputs": []
    },
    {
      "cell_type": "code",
      "metadata": {
        "id": "7UZ8jLpN-dPZ",
        "colab_type": "code",
        "colab": {}
      },
      "source": [
        "class MeanEmbeddingVectorizer(object):\n",
        "    def __init__(self, word2vec):\n",
        "        self.word2vec = word2vec\n",
        "        if len(word2vec)>0:\n",
        "            self.dim=len(word2vec[next(iter(glove_small))])\n",
        "        else:\n",
        "            self.dim=0\n",
        "            \n",
        "    def fit(self, X, y):\n",
        "        return self \n",
        "\n",
        "    def transform(self, X):\n",
        "        return np.array([\n",
        "            np.mean([self.word2vec[w] for w in words if w in self.word2vec] \n",
        "                    or [np.zeros(self.dim)], axis=0)\n",
        "            for words in X\n",
        "        ])\n",
        "\n",
        "    \n",
        "# and a tf-idf version of the same\n",
        "class TfidfEmbeddingVectorizer(object):\n",
        "    def __init__(self, word2vec):\n",
        "        self.word2vec = word2vec\n",
        "        self.word2weight = None\n",
        "        if len(word2vec)>0:\n",
        "            self.dim=len(word2vec[next(iter(glove_small))])\n",
        "        else:\n",
        "            self.dim=0\n",
        "        \n",
        "    def fit(self, X, y):\n",
        "        tfidf = TfidfVectorizer(analyzer=lambda x: x)\n",
        "        tfidf.fit(X)\n",
        "        # if a word was never seen - it must be at least as infrequent\n",
        "        # as any of the known words - so the default idf is the max of \n",
        "        # known idf's\n",
        "        max_idf = max(tfidf.idf_)\n",
        "        self.word2weight = defaultdict(\n",
        "            lambda: max_idf, \n",
        "            [(w, tfidf.idf_[i]) for w, i in tfidf.vocabulary_.items()])\n",
        "    \n",
        "        return self\n",
        "    \n",
        "    def transform(self, X):\n",
        "        return np.array([\n",
        "                np.mean([self.word2vec[w] * self.word2weight[w]\n",
        "                         for w in words if w in self.word2vec] or\n",
        "                        [np.zeros(self.dim)], axis=0)\n",
        "                for words in X\n",
        "            ])"
      ],
      "execution_count": 0,
      "outputs": []
    },
    {
      "cell_type": "code",
      "metadata": {
        "id": "mCYylTau-s2H",
        "colab_type": "code",
        "colab": {}
      },
      "source": [
        "svc_tfidf = Pipeline([(\"tfidf_vectorizer\", TfidfVectorizer(analyzer=lambda x: x)), (\"linear svc\", SVC(kernel=\"linear\"))])\n",
        "# Extra Trees classifier is almost universally great, let's stack it with our embeddings\n",
        "etree_baomoi_small = Pipeline([(\"glove vectorizer\", MeanEmbeddingVectorizer(glove_small)), \n",
        "                        (\"extra trees\", ExtraTreesClassifier(n_estimators=200))])\n",
        "etree_baomoi_small_tfidf = Pipeline([(\"glove vectorizer\", TfidfEmbeddingVectorizer(glove_small)), \n",
        "                        (\"extra trees\", ExtraTreesClassifier(n_estimators=200))])\n",
        "etree_w2v = Pipeline([(\"word2vec vectorizer\", MeanEmbeddingVectorizer(w2v)), \n",
        "                        (\"extra trees\", ExtraTreesClassifier(n_estimators=200))])\n",
        "etree_w2v_tfidf = Pipeline([(\"word2vec vectorizer\", TfidfEmbeddingVectorizer(w2v)), \n",
        "                        (\"extra trees\", ExtraTreesClassifier(n_estimators=200))])"
      ],
      "execution_count": 0,
      "outputs": []
    },
    {
      "cell_type": "code",
      "metadata": {
        "id": "lrvkLFVi-71P",
        "colab_type": "code",
        "colab": {}
      },
      "source": [
        "all_models = [\n",
        "    (\"svc_tfidf\", svc_tfidf),\n",
        "    (\"glove_small\", etree_baomoi_small), \n",
        "    (\"glove_small_tfidf\", etree_baomoi_small_tfidf),\n",
        "    (\"w2v\", etree_w2v),\n",
        "    (\"w2v_tfidf\", etree_w2v_tfidf)\n",
        "]\n"
      ],
      "execution_count": 0,
      "outputs": []
    },
    {
      "cell_type": "code",
      "metadata": {
        "id": "wodWsjAf_FR4",
        "colab_type": "code",
        "colab": {
          "base_uri": "https://localhost:8080/",
          "height": 145
        },
        "outputId": "ddfa9206-d1dc-4ebe-93b4-271351d4e03c"
      },
      "source": [
        "unsorted_scores = [(name, cross_val_score(model,X,y, cv=5).mean()) for name, model in all_models]\n",
        "scores = sorted(unsorted_scores, key=lambda x: -x[1])\n",
        "\n",
        "\n",
        "print (tabulate(scores, floatfmt=\".4f\", headers=(\"model\", 'score')))"
      ],
      "execution_count": 62,
      "outputs": [
        {
          "output_type": "stream",
          "text": [
            "model                score\n",
            "-----------------  -------\n",
            "svc_tfidf           0.9842\n",
            "w2v                 0.9695\n",
            "w2v_tfidf           0.9683\n",
            "glove_small         0.9659\n",
            "glove_small_tfidf   0.9633\n"
          ],
          "name": "stdout"
        }
      ]
    },
    {
      "cell_type": "code",
      "metadata": {
        "id": "D26SuyVbFFRG",
        "colab_type": "code",
        "colab": {}
      },
      "source": [
        ""
      ],
      "execution_count": 0,
      "outputs": []
    },
    {
      "cell_type": "code",
      "metadata": {
        "id": "BdCpglUx_GOv",
        "colab_type": "code",
        "colab": {}
      },
      "source": [
        "svc_model = svc_tfidf.fit(X, y)\n",
        "model_etree_mean = etree_w2v.fit(X, y)\n",
        "model_etreew_2v_tfidf = etree_w2v_tfidf.fit(X, y)\n",
        "model_tree_baomoi_tfdf  =etree_baomoi_small_tfidf.fit(X, y)"
      ],
      "execution_count": 0,
      "outputs": []
    },
    {
      "cell_type": "code",
      "metadata": {
        "id": "UDr1cwwGGbcX",
        "colab_type": "code",
        "colab": {}
      },
      "source": [
        "def benchmark(model, X, y, n):\n",
        "    test_size = 1 - (n / float(len(y)))\n",
        "    scores = []\n",
        "    sss = StratifiedShuffleSplit(n_splits=5, test_size=test_size, random_state=0)\n",
        "    \n",
        "    for train_index, test_index in sss.split(X, y):\n",
        "    \n",
        "        X_train, X_test = X[train_index], X[test_index]\n",
        "        y_train, y_test = y[train_index], y[test_index]\n",
        "        scores.append(accuracy_score(model.fit(X_train, y_train).predict(X_test), y_test))\n",
        "    return np.mean(scores)"
      ],
      "execution_count": 0,
      "outputs": []
    },
    {
      "cell_type": "code",
      "metadata": {
        "id": "jppJKik2FFrm",
        "colab_type": "code",
        "colab": {}
      },
      "source": [
        "train_sizes = [40, 160, 640, 3200, 6400,12800]\n",
        "table = []\n",
        "for name, model in all_models:\n",
        "#     print (name)\n",
        "#     print (model)\n",
        "    for n in train_sizes:\n",
        "        print(n)\n",
        "        table.append({'model': name, \n",
        "                      'accuracy': benchmark(model, X, y, n), \n",
        "                      'train_size': n})\n",
        "df = pd.DataFrame(table)"
      ],
      "execution_count": 0,
      "outputs": []
    },
    {
      "cell_type": "code",
      "metadata": {
        "id": "yGXb8mRmTo0w",
        "colab_type": "code",
        "outputId": "3d46b4c4-b7c8-4931-f57e-87448dadc2e3",
        "colab": {
          "base_uri": "https://localhost:8080/",
          "height": 426
        }
      },
      "source": [
        "\n",
        "plt.figure(figsize=(15, 6))\n",
        "fig = sns.pointplot(x='train_size', y='accuracy', hue='model', \n",
        "                    data=df[df.model.map(lambda x: x in [\"svc_tfidf\", \"glove_small\",\n",
        "                                                         \"glove_small_tfidf\",\"w2v\",\"w2v_tfidf\"])])\n",
        "sns.set_context(\"notebook\", font_scale=1.5)\n",
        "fig.set(ylabel=\"accuracy\")\n",
        "fig.set(xlabel=\"labeled training examples\")\n",
        "fig.set(title=\"model benchmark\")\n",
        "fig.set(ylabel=\"accuracy\")"
      ],
      "execution_count": 69,
      "outputs": [
        {
          "output_type": "execute_result",
          "data": {
            "text/plain": [
              "[Text(0, 0.5, 'accuracy')]"
            ]
          },
          "metadata": {
            "tags": []
          },
          "execution_count": 69
        },
        {
          "output_type": "display_data",
          "data": {
            "image/png": "[encoded data removed]",
            "text/plain": [
              "<Figure size 1080x432 with 1 Axes>"
            ]
          },
          "metadata": {
            "tags": []
          }
        }
      ]
    },
    {
      "cell_type": "code",
      "metadata": {
        "id": "yRrPnb43FOXM",
        "colab_type": "code",
        "colab": {}
      },
      "source": [
        ""
      ],
      "execution_count": 0,
      "outputs": []
    }
  ]
}